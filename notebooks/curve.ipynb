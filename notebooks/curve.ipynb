{
 "cells": [
  {
   "cell_type": "code",
   "execution_count": 1,
   "id": "17e5499f-5802-4aee-901c-0ad82d1aa16f",
   "metadata": {},
   "outputs": [
    {
     "data": {
      "application/vnd.jupyter.widget-view+json": {
       "model_id": "07eb8ca85c4c457bbfbdedc4bb554a99",
       "version_major": 2,
       "version_minor": 1
      },
      "text/plain": [
       "Viewer()"
      ]
     },
     "metadata": {},
     "output_type": "display_data"
    }
   ],
   "source": [
    "import math\n",
    "from time import sleep\n",
    "\n",
    "import numpy as np\n",
    "import rerun as rr\n",
    "from rerun.utilities import build_color_grid\n",
    "from impostor.utils import Curve\n",
    "\n",
    "rec = rr.new_recording(\"rerun_curve_notebook\")\n",
    "\n",
    "curve = Curve([(0, 0), (0.14, 0.6), (0.7, 0.7), (0.86, 0.4), (0.98, 0.1), (1, 0.0)])\n",
    "\n",
    "rec.log(\"curves/parabola\", rr.SeriesLine(name=\"blade\"), timeless=True)\n",
    "for t in np.linspace(0, 1, 100):\n",
    "    rec.set_time_sequence(\"frame_nr\", int(t * 100000))\n",
    "    f_of_t = curve.evaluate(t)\n",
    "    rec.log(\n",
    "        \"curves/parabola\",\n",
    "        rr.Scalar(f_of_t),\n",
    "    )\n",
    "rec.log(\"curves/points\", rr.SeriesPoint(name=\"control_points\"), timeless=True)\n",
    "for cp in curve._control_points:\n",
    "    rec.set_time_sequence(\"frame_nr\", int(cp[0] * 100000))\n",
    "    rec.log(\"curves/points\", rr.Scalar(cp[1]))\n",
    "rec.notebook_show()"
   ]
  },
  {
   "cell_type": "code",
   "execution_count": 2,
   "id": "166276ca-ec7b-4a61-a475-7a951d8d03f1",
   "metadata": {},
   "outputs": [
    {
     "name": "stdout",
     "output_type": "stream",
     "text": [
      "Iteration 0\n",
      "Iteration 1\n",
      "Iteration 2\n",
      "Iteration 3\n",
      "Iteration 4\n",
      "Iteration 5\n",
      "Iteration 6\n",
      "Iteration 7\n",
      "Iteration 8\n",
      "Iteration 9\n",
      "Iteration 10\n",
      "Iteration 11\n",
      "Iteration 12\n",
      "Iteration 13\n",
      "Iteration 14\n",
      "Iteration 15\n",
      "LeafMeta created with attachment_parent_entity: 9\n",
      "LeafMeta created with attachment_parent_entity: 9\n",
      "LeafMeta created\n",
      "midrib_entities: [14, 16, 18, 20, 22, 24, 26, 28, 30, 32, 34, 36]\n"
     ]
    },
    {
     "name": "stderr",
     "output_type": "stream",
     "text": [
      "/home/artefacts/repos/impostor/impostor/systems/rerun.py:100: RerunWarning: Ambiguous input for colors of length 3. If using 0xRRGGBBAA values, please wrap as np.array with dtype=np.uint32\n",
      "  rr.GraphNodes(\n"
     ]
    },
    {
     "data": {
      "application/vnd.jupyter.widget-view+json": {
       "model_id": "e4539916763f420998a85014befe79ca",
       "version_major": 2,
       "version_minor": 1
      },
      "text/plain": [
       "Viewer()"
      ]
     },
     "metadata": {},
     "output_type": "display_data"
    }
   ],
   "source": [
    "from impostor.plant import Plant\n",
    "import impostor.systems as syst\n",
    "from impostor.utils import NormalDistribution\n",
    "\n",
    "import rerun as rr\n",
    "import time\n",
    "\n",
    "\n",
    "def test_grow(iterations=120):\n",
    "    plant = Plant()\n",
    "    root_entity = syst.start_root(plant)\n",
    "    branch_system = syst.BranchingSystem(internode_spacing=NormalDistribution(1.6, 0.1))\n",
    "    relax_spring_system = syst.RelaxSpringSystem()\n",
    "    secondary_growth_system = syst.SecondaryGrowthSystem()\n",
    "    update_mass_above_system = syst.UpdateMassAboveSystem()\n",
    "\n",
    "    for i in range(iterations):\n",
    "        rr.set_time_sequence(\"frame_idx\", i)\n",
    "        print(f\"Iteration {i}\")\n",
    "        syst.grow_system(plant)\n",
    "        branch_system.execute(plant)    \n",
    "        secondary_growth_system.execute(plant)\n",
    "\n",
    "        if i == iterations - 1:\n",
    "            syst.LeafingSystem().execute(plant)\n",
    "\n",
    "        update_mass_above_system.execute(plant)\n",
    "        relax_spring_system.execute(plant)\n",
    "        syst.rr_log_components(plant)\n",
    "        syst.rr_log_graph(plant)\n",
    "        syst.rr_log_transforms_system(plant)\n",
    "        mesh = syst.create_plant_mesh(plant)\n",
    "        mesh.rr_log()\n",
    "\n",
    "    return plant, root_entity\n",
    "\n",
    "rr.init(\"impostor\")\n",
    "plant, root = test_grow(16)\n",
    "\n",
    "\n",
    "rr.notebook_show()"
   ]
  },
  {
   "cell_type": "code",
   "execution_count": 3,
   "id": "9bc58f5d-eb15-4fc5-9cb5-127aba725210",
   "metadata": {},
   "outputs": [
    {
     "name": "stdout",
     "output_type": "stream",
     "text": [
      "/home/artefacts/repos/impostor/.pixi/envs/default/bin/python3.10\n"
     ]
    }
   ],
   "source": [
    "import sys\n",
    "\n",
    "print(sys.executable)\n"
   ]
  }
 ],
 "metadata": {
  "kernelspec": {
   "display_name": "Python (myenv)",
   "language": "python",
   "name": "myenv"
  },
  "language_info": {
   "codemirror_mode": {
    "name": "ipython",
    "version": 3
   },
   "file_extension": ".py",
   "mimetype": "text/x-python",
   "name": "python",
   "nbconvert_exporter": "python",
   "pygments_lexer": "ipython3",
   "version": "3.10.15"
  }
 },
 "nbformat": 4,
 "nbformat_minor": 5
}
