{
 "cells": [
  {
   "cell_type": "code",
   "execution_count": 1,
   "id": "17e5499f-5802-4aee-901c-0ad82d1aa16f",
   "metadata": {},
   "outputs": [],
   "source": [
    "import math\n",
    "from time import sleep\n",
    "\n",
    "import numpy as np\n",
    "import rerun as rr\n",
    "from rerun.utilities import build_color_grid\n",
    "\n",
    "rr.init(\"rerun_example_notebook\")"
   ]
  },
  {
   "cell_type": "code",
   "execution_count": 2,
   "id": "166276ca-ec7b-4a61-a475-7a951d8d03f1",
   "metadata": {},
   "outputs": [
    {
     "name": "stderr",
     "output_type": "stream",
     "text": [
      "/home/artefacts/repos/impostor/impostor/systems/rerun.py:100: RerunWarning: Ambiguous input for colors of length 3. If using 0xRRGGBBAA values, please wrap as np.asarray with dtype=np.uint32\n",
      "  rr.GraphNodes(\n"
     ]
    },
    {
     "data": {
      "application/vnd.jupyter.widget-view+json": {
       "model_id": "2e945ae6557d4ce19574b6542a4a229d",
       "version_major": 2,
       "version_minor": 1
      },
      "text/plain": [
       "Viewer()"
      ]
     },
     "metadata": {},
     "output_type": "display_data"
    },
    {
     "name": "stderr",
     "output_type": "stream",
     "text": [
      "WARNING:root:Timed out waiting for viewer to become ready. Make sure: https://app.rerun.io/version/0.21.0/widget.js is accessible.\n",
      "If not, consider setting `RERUN_NOTEBOOK_ASSET`. Consult https://pypi.org/project/rerun-notebook/0.21.0/ for details.\n",
      "\n"
     ]
    }
   ],
   "source": [
    "from impostor.plant import Plant\n",
    "import impostor.systems as syst\n",
    "from impostor.utils import NormalDistribution\n",
    "\n",
    "import rerun as rr \n",
    "import time\n",
    "\n",
    "\n",
    "def test_grow(iterations=120):\n",
    "    plant = Plant()\n",
    "    root_entity = syst.start_root(plant)\n",
    "    branch_system = syst.BranchingSystem(internode_spacing=NormalDistribution(1.6, 0.1))\n",
    "    relax_spring_system = syst.RelaxSpringSystem()\n",
    "    secondary_growth_system = syst.SecondaryGrowthSystem()\n",
    "    update_mass_above_system = syst.UpdateMassAboveSystem()\n",
    "\n",
    "    for i in range(iterations):\n",
    "        rr.set_time_sequence(\"frame_idx\", i)\n",
    "        syst.grow_system(plant)\n",
    "        relax_spring_system.execute(plant)\n",
    "        branch_system.execute(plant)    \n",
    "        secondary_growth_system.execute(plant)\n",
    "        update_mass_above_system.execute(plant)\n",
    "        \n",
    "    syst.rr_log_components(plant)\n",
    "    syst.rr_log_graph(plant)\n",
    "    syst.rr_log_transforms_system(plant)\n",
    "    mesh = syst.create_plant_mesh(plant)\n",
    "    mesh.rr_log()\n",
    "\n",
    "    return plant, root_entity\n",
    "\n",
    "\n",
    "        \n",
    "plant, root = test_grow(160)\n",
    "    \n",
    "\n",
    "rr.notebook_show()"
   ]
  },
  {
   "cell_type": "code",
   "execution_count": 3,
   "id": "9bc58f5d-eb15-4fc5-9cb5-127aba725210",
   "metadata": {},
   "outputs": [
    {
     "name": "stdout",
     "output_type": "stream",
     "text": [
      "/home/artefacts/repos/impostor/.pixi/envs/default/bin/python3.10\n"
     ]
    }
   ],
   "source": [
    "import sys\n",
    "print(sys.executable)\n"
   ]
  }
 ],
 "metadata": {
  "kernelspec": {
   "display_name": "Python (myenv)",
   "language": "python",
   "name": "myenv"
  },
  "language_info": {
   "codemirror_mode": {
    "name": "ipython",
    "version": 3
   },
   "file_extension": ".py",
   "mimetype": "text/x-python",
   "name": "python",
   "nbconvert_exporter": "python",
   "pygments_lexer": "ipython3",
   "version": "3.10.15"
  }
 },
 "nbformat": 4,
 "nbformat_minor": 5
}
